{
 "cells": [
  {
   "cell_type": "code",
   "execution_count": 27,
   "metadata": {},
   "outputs": [],
   "source": [
    "import numpy as np\n",
    "import imageio\n",
    "import random\n",
    "import os"
   ]
  },
  {
   "cell_type": "code",
   "execution_count": 57,
   "metadata": {},
   "outputs": [],
   "source": [
    "class randomWalk():\n",
    "    '''\n",
    "    Class to generate random walk on the lattice and save agent's path as a video.\n",
    "    '''\n",
    "    \n",
    "    def __init__(self, gridSize=100, agentPositionID=255):\n",
    "        '''\n",
    "        Initializes the lattice and the agent.\n",
    "        \n",
    "        Parameters:\n",
    "        gridSize - size of the square lattice, the default is 100\n",
    "        agentPositionID - assigned value to agent's start position and make it occupied,\n",
    "            value should be an integer between 0 and 255, the default is 255 \n",
    "        '''\n",
    "        if not isinstance(agentPositionID, int):\n",
    "            return 'ID should be an integer'\n",
    "        elif agentPositionID < 0 or agentPositionID > 255:\n",
    "            return 'ID should be an integer between 0 and 255'\n",
    "        self.gridSize = gridSize\n",
    "        self.agentPositionID = agentPositionID\n",
    "        self.lattice = np.zeros((gridSize, gridSize), dtype=np.uint8)\n",
    "        self.agentPosition = (gridSize//2, gridSize//2)\n",
    "        self.lattice[self.agentPosition] = agentPositionID\n",
    "        self.moves = [(0, 1), (0, -1), (1, 0), (-1, 0)]\n",
    "        self.timeSteps = None\n",
    "        \n",
    "    def randomWalk(self, timeSteps=1000):\n",
    "        '''\n",
    "        Iterates over every step and generates random walk of the agent and saves results as .png.\n",
    "\n",
    "        Parameters:\n",
    "        timeSteps - number of steps done by the agent, the default is 1000\n",
    "        '''\n",
    "        self.timeSteps = timeSteps\n",
    "        for t in range(timeSteps):\n",
    "            moveInsideBoundaries = False\n",
    "            while not moveInsideBoundaries:\n",
    "                nextMove = random.choice(self.moves)\n",
    "                nextPosition = (self.agentPosition[0] + nextMove[0],\n",
    "                                self.agentPosition[1] + nextMove[1])\n",
    "                if nextPosition[0] >= 0 and nextPosition[0] < self.gridSize and nextPosition[1] >= 0 and nextPosition[1] < self.gridSize:\n",
    "                    moveInsideBoundaries = True\n",
    "                    self.lattice[self.agentPosition] = 0\n",
    "                    self.lattice[nextPosition] = self.agentPositionID\n",
    "                    self.agentPosition = nextPosition\n",
    "            file = os.path.join('randomWalkFolder', f'move_{t}.png')\n",
    "            imageio.imwrite(file, self.lattice)\n",
    "    \n",
    "    def createRandomWalkMovie(self):\n",
    "        '''\n",
    "        Creates a movie from saved images of a random walk of the agent.\n",
    "        '''\n",
    "        with imageio.get_writer('randomWalk.mp4', mode = 'I') as w:\n",
    "            for i in range(self.timeSteps):\n",
    "                file = os.path.join('randomWalkFolder', f'move_{i}.png')\n",
    "                img = imageio.imread(file)\n",
    "                w.append_data(img)"
   ]
  },
  {
   "cell_type": "code",
   "execution_count": 58,
   "metadata": {},
   "outputs": [],
   "source": [
    "walk = randomWalk()"
   ]
  },
  {
   "cell_type": "code",
   "execution_count": 59,
   "metadata": {},
   "outputs": [],
   "source": [
    "walk.randomWalk()"
   ]
  },
  {
   "cell_type": "code",
   "execution_count": 60,
   "metadata": {},
   "outputs": [
    {
     "name": "stderr",
     "output_type": "stream",
     "text": [
      "IMAGEIO FFMPEG_WRITER WARNING: input image is not divisible by macro_block_size=16, resizing from (100, 100) to (112, 112) to ensure video compatibility with most codecs and players. To prevent resizing, make your input image divisible by the macro_block_size or set the macro_block_size to 1 (risking incompatibility).\n"
     ]
    }
   ],
   "source": [
    "walk.createRandomWalkMovie()"
   ]
  },
  {
   "cell_type": "code",
   "execution_count": null,
   "metadata": {},
   "outputs": [],
   "source": []
  }
 ],
 "metadata": {
  "kernelspec": {
   "display_name": "Python 3",
   "language": "python",
   "name": "python3"
  },
  "language_info": {
   "codemirror_mode": {
    "name": "ipython",
    "version": 3
   },
   "file_extension": ".py",
   "mimetype": "text/x-python",
   "name": "python",
   "nbconvert_exporter": "python",
   "pygments_lexer": "ipython3",
   "version": "3.7.4"
  }
 },
 "nbformat": 4,
 "nbformat_minor": 4
}
