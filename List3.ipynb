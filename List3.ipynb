{
 "cells": [
  {
   "cell_type": "code",
   "execution_count": 1,
   "metadata": {},
   "outputs": [],
   "source": [
    "import networkx as nx\n",
    "import numpy as np\n",
    "import matplotlib.pyplot as plt\n",
    "from scipy.stats import poisson, binom"
   ]
  },
  {
   "cell_type": "code",
   "execution_count": 171,
   "metadata": {},
   "outputs": [],
   "source": [
    "class Graph():\n",
    "    '''\n",
    "    A class to generate graphs.\n",
    "    '''\n",
    "\n",
    "    def __init__(self):\n",
    "        '''\n",
    "        Creates and empty graph.\n",
    "        '''\n",
    "        \n",
    "        self.G = nx.Graph()\n",
    "\n",
    "    def generateGraph(self, N, p, graphType, k = 1, m = 1, showGraph = False):\n",
    "        '''\n",
    "        Generates a chosen graph with N nodes and edges with probability p.\n",
    "        Args:\n",
    "        N - number of nodes\n",
    "        p - probability of connection between two chosen nodes\n",
    "        k - number of neighbors (used in Watts-Strogatz graph), the deafult is 1\n",
    "        m - number of new links (used in Barabasi-Albert graph), the default is 1\n",
    "        graphType - type of graph from: randomGraph using the Gilbert model, wattsStrogatz and barabasiAlbert\n",
    "        showGraph - determines if graph is shown, the default is False\n",
    "        '''\n",
    "        \n",
    "        if type(N) is not int:\n",
    "            return 'N must be an integer'\n",
    "        elif type(k) is not int:\n",
    "            return 'k must be an integer'\n",
    "        elif type(m) is not int:\n",
    "            return 'm must be an integer'\n",
    "        elif m > N:\n",
    "            return 'N must be greater than m'\n",
    "        elif N < 0:\n",
    "            return 'N must be a positive number'\n",
    "        elif p < 0 or p > 1:\n",
    "            return 'p must be between 0 and 1'\n",
    "        \n",
    "        if graphType == 'randomGraph':\n",
    "            for i in range(N):\n",
    "                self.G.add_node(i)\n",
    "\n",
    "            for i in range(N):\n",
    "                for j in range(N):\n",
    "                    if i != j:\n",
    "                        q = np.random.rand()\n",
    "                        if q < p:\n",
    "                            self.G.add_edge(i, j)\n",
    "\n",
    "            if showGraph == True:\n",
    "                nx.draw(self.G, node_size = 10, width = 0.3, node_color='black', edge_color='gray')\n",
    "                plt.show()\n",
    "        \n",
    "        elif graphType == 'wattsStrogatz':\n",
    "            for i in range(N):\n",
    "                self.G.add_node(i)\n",
    "                \n",
    "            for i in range(N):\n",
    "                for j in range(1, k//2 + 1):\n",
    "                    n = (i + j) % N\n",
    "                    self.G.add_edge(i, n)\n",
    "                    \n",
    "            for i in range(N):\n",
    "                for j in range(1, k//2 + 1):\n",
    "                    if i != j:\n",
    "                        q = np.random.rand()\n",
    "                        if q < p:\n",
    "                            n = (1 + j) % N\n",
    "                            new_n = np.random.choice([i for i in range(N)], 1)[0]\n",
    "                            while new_n == i or self.G.has_edge(i, new_n):\n",
    "                                new_n = np.random.choice([i for i in range(N)], 1)[0]\n",
    "                            if self.G.has_edge(i, n):\n",
    "                                self.G.remove_edge(i, n)\n",
    "                            self.G.add_edge(i, new_n)\n",
    "                            \n",
    "            if showGraph == True:\n",
    "                nx.draw(self.G, node_size = 10, width = 0.3, node_color='black', edge_color='gray')\n",
    "                plt.show()\n",
    "        \n",
    "        elif graphType == 'barabasiAlbert':\n",
    "            self.G.add_nodes_from(np.arange(m))\n",
    "            self.G.add_edges_from([(i, j) for i in range(m) for j in range(i + 1, m)])\n",
    "            \n",
    "            for i in range(m, N):\n",
    "                d = [self.G.degree(j) for j in range(i)]\n",
    "                p = d / np.sum(d)\n",
    "                new_n = np.random.choice(np.arange(i), size = m, replace = False, p = p)\n",
    "                self.G.add_node(i)\n",
    "                self.G.add_edges_from(zip([i]*m, new_n))\n",
    "\n",
    "            if showGraph == True:\n",
    "                nx.draw(self.G, node_size = 10, width = 0.3, node_color='black', edge_color='gray')\n",
    "                plt.show()\n",
    "        \n",
    "        else:\n",
    "            return 'You must choose a type of graph from: randomGraph, wattsStrogatz or barabasiAlbert'\n",
    "            \n",
    "        return self.G\n",
    "    \n",
    "    def numberOfVerticesAndEdges(self):\n",
    "        '''\n",
    "        Prints number of nodes and edges in the graph.\n",
    "        '''\n",
    "        \n",
    "        print(f\"Nodes: {self.G.number_of_nodes()}, Edges: {self.G.number_of_edges()}\")\n",
    "        \n",
    "    def averageDegree(self):\n",
    "        \"\"\"\n",
    "        Calculates average degree of the nodes in the graph.\n",
    "        \"\"\"\n",
    "        \n",
    "        d = []\n",
    "        for i in self.G.nodes:\n",
    "            d.append(self.G.degree(i))\n",
    "            \n",
    "        print(f\"Average degree is: {np.mean(d)}\")\n",
    "        return np.mean(d)\n",
    "\n",
    "\n",
    "    def degreeDistributionVar(self):\n",
    "        '''\n",
    "        Calculates the variance of the degree distribution (binomial distribution) of a given graph.\n",
    "        '''\n",
    "        \n",
    "        d = [d for n, d in self.G.degree()]\n",
    "        \n",
    "        print(f\"Variance of a degree distribution: {np.var(d)}\")\n",
    "        return np.var(d)\n",
    "    \n",
    "    def frequencyPlot(self):\n",
    "        '''\n",
    "        Generates a frequency plot for the degree distribution of the given graph.\n",
    "        '''\n",
    "        \n",
    "        histogram = nx.degree_histogram(self.G)\n",
    "        ds = range(len(histogram))\n",
    "        \n",
    "        plt.bar(ds, histogram)\n",
    "        plt.xlabel('# of Degrees')\n",
    "        plt.ylabel('#')\n",
    "        plt.title('Frequency plot for degrees')\n",
    "        plt.show()\n",
    "        \n",
    "    def fitPoissonDistribution(self):\n",
    "        '''\n",
    "        Fits a Poisson distribution to the degree distribution of the given graph.\n",
    "        '''\n",
    "        \n",
    "        d = [d for n, d in self.G.degree()]\n",
    "        \n",
    "        fittedModel = poisson(np.mean(d))\n",
    "        \n",
    "        histogram = nx.degree_histogram(self.G)\n",
    "        ds = range(len(histogram))\n",
    "\n",
    "        plt.bar(ds, histogram, label = 'Frequency plot for degrees')\n",
    "        plt.plot(ds, len(d) * fittedModel.pmf(ds), 'r-', label = 'Fitted Poisson distribution')\n",
    "        plt.xlabel('# of Degrees')\n",
    "        plt.ylabel('#')\n",
    "        plt.title('Fitted Poisson distribution for degree distribution')\n",
    "        plt.legend()\n",
    "        plt.show()\n",
    "        \n",
    "#     def fitBinomialDistribution(self):\n",
    "#         '''\n",
    "#         Fits a binomial distribution to the degree distribution of the given graph.\n",
    "#         '''\n",
    "        \n",
    "#         d = [d for n, d in self.G.degree()]\n",
    "        \n",
    "#         p = np.mean(d) / (len(d) - 1)\n",
    "        \n",
    "#         fittedModel = binom(len(d) - 1, p)\n",
    "        \n",
    "#         histogram = nx.degree_histogram(self.G)\n",
    "#         ds = range(len(histogram))\n",
    "        \n",
    "#         plt.bar(ds, histogram, label = 'Frequency plot for degrees')\n",
    "#         plt.plot(range(max(d)+1), fittedModel.pmf(range(max(d)+1)), 'r-', label = 'Fitted Binomial distribution')\n",
    "#         plt.xlabel('# of Degrees')\n",
    "#         plt.ylabel('#')\n",
    "#         plt.title('Fitted Binomial distribution for degree distribution')\n",
    "#         plt.legend()\n",
    "#         plt.show()"
   ]
  },
  {
   "cell_type": "code",
   "execution_count": 172,
   "metadata": {},
   "outputs": [],
   "source": [
    "G = Graph()"
   ]
  },
  {
   "cell_type": "code",
   "execution_count": 173,
   "metadata": {},
   "outputs": [
    {
     "data": {
      "image/png": "[encoded data removed]",
      "text/plain": [
       "<Figure size 432x288 with 1 Axes>"
      ]
     },
     "metadata": {},
     "output_type": "display_data"
    },
    {
     "data": {
      "text/plain": [
       "<networkx.classes.graph.Graph at 0x1d0715b0>"
      ]
     },
     "execution_count": 173,
     "metadata": {},
     "output_type": "execute_result"
    }
   ],
   "source": [
    "G.generateGraph(10, 0.05, 'barabasiAlbert', showGraph = True, m = 2)"
   ]
  },
  {
   "cell_type": "code",
   "execution_count": 156,
   "metadata": {},
   "outputs": [
    {
     "name": "stdout",
     "output_type": "stream",
     "text": [
      "Nodes: 100, Edges: 197\n"
     ]
    }
   ],
   "source": [
    "G.numberOfVerticesAndEdges()"
   ]
  },
  {
   "cell_type": "code",
   "execution_count": 157,
   "metadata": {},
   "outputs": [
    {
     "name": "stdout",
     "output_type": "stream",
     "text": [
      "Average degree is: 3.94\n"
     ]
    },
    {
     "data": {
      "text/plain": [
       "3.94"
      ]
     },
     "execution_count": 157,
     "metadata": {},
     "output_type": "execute_result"
    }
   ],
   "source": [
    "G.averageDegree()"
   ]
  },
  {
   "cell_type": "code",
   "execution_count": 158,
   "metadata": {},
   "outputs": [
    {
     "name": "stdout",
     "output_type": "stream",
     "text": [
      "Variance of a degree distribution: 12.696399999999999\n"
     ]
    },
    {
     "data": {
      "text/plain": [
       "12.696399999999999"
      ]
     },
     "execution_count": 158,
     "metadata": {},
     "output_type": "execute_result"
    }
   ],
   "source": [
    "G.degreeDistributionVar()"
   ]
  },
  {
   "cell_type": "code",
   "execution_count": 159,
   "metadata": {},
   "outputs": [
    {
     "data": {
      "image/png": "[encoded data removed]",
      "text/plain": [
       "<Figure size 432x288 with 1 Axes>"
      ]
     },
     "metadata": {
      "needs_background": "light"
     },
     "output_type": "display_data"
    }
   ],
   "source": [
    "G.frequencyPlot()"
   ]
  },
  {
   "cell_type": "code",
   "execution_count": 160,
   "metadata": {},
   "outputs": [
    {
     "data": {
      "image/png": "[encoded data removed]",
      "text/plain": [
       "<Figure size 432x288 with 1 Axes>"
      ]
     },
     "metadata": {
      "needs_background": "light"
     },
     "output_type": "display_data"
    }
   ],
   "source": [
    "G.fitPoissonDistribution()"
   ]
  },
  {
   "cell_type": "code",
   "execution_count": null,
   "metadata": {},
   "outputs": [],
   "source": []
  },
  {
   "cell_type": "code",
   "execution_count": null,
   "metadata": {},
   "outputs": [],
   "source": []
  }
 ],
 "metadata": {
  "kernelspec": {
   "display_name": "Python 3",
   "language": "python",
   "name": "python3"
  },
  "language_info": {
   "codemirror_mode": {
    "name": "ipython",
    "version": 3
   },
   "file_extension": ".py",
   "mimetype": "text/x-python",
   "name": "python",
   "nbconvert_exporter": "python",
   "pygments_lexer": "ipython3",
   "version": "3.7.4"
  }
 },
 "nbformat": 4,
 "nbformat_minor": 4
}
